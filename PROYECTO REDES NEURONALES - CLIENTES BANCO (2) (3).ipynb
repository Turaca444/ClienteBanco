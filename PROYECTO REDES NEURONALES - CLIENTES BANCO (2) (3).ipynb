{
 "cells": [
  {
   "cell_type": "markdown",
   "id": "9aa1ac12-cc99-445d-94b8-153cea389da3",
   "metadata": {},
   "source": [
    "                                - INSTITUTO SUPERIOR POLITÉCNICO CÓRDOBA - \n",
    "\n",
    "INTEGRANTES: CHAYLE, CHRISTIAN -\n",
    "             DELGADO, AGUSTINA -\n",
    "             MEDINA, JORGE\n",
    "\n",
    "PROYECTO FINAL - RED NEURONAL (aplicar las redes neuronales a la predicción y descripción del siguiente problema)\n",
    "\n",
    "- 10.000 clientes de un banco.\n",
    "- Clientes de 3 países, edad, género, balance, productos contratados, tiene o no tarjeta de crédito, salario estimado.\n",
    "\n",
    "Con estos datos, el banco ha marcado quienes abandonaron el banco y quienes no.\n",
    "Se trata de predecir, con información similar de clientes nuevos, si abandonarán el banco o no.\n"
   ]
  },
  {
   "cell_type": "code",
   "execution_count": 252,
   "id": "e15d7c59-e68b-4db7-8bd4-b74284e9b542",
   "metadata": {},
   "outputs": [],
   "source": [
    "#IMPORTAMOS LIBRERIAS \n",
    "import numpy as np \n",
    "import matplotlib.pyplot as plt\n",
    "import pandas as pd "
   ]
  },
  {
   "cell_type": "code",
   "execution_count": 253,
   "id": "b27e1c04",
   "metadata": {
    "scrolled": true
   },
   "outputs": [
    {
     "data": {
      "text/html": [
       "<div>\n",
       "<style scoped>\n",
       "    .dataframe tbody tr th:only-of-type {\n",
       "        vertical-align: middle;\n",
       "    }\n",
       "\n",
       "    .dataframe tbody tr th {\n",
       "        vertical-align: top;\n",
       "    }\n",
       "\n",
       "    .dataframe thead th {\n",
       "        text-align: right;\n",
       "    }\n",
       "</style>\n",
       "<table border=\"1\" class=\"dataframe\">\n",
       "  <thead>\n",
       "    <tr style=\"text-align: right;\">\n",
       "      <th></th>\n",
       "      <th>RowNumber</th>\n",
       "      <th>CustomerId</th>\n",
       "      <th>Surname</th>\n",
       "      <th>CreditScore</th>\n",
       "      <th>Geography</th>\n",
       "      <th>Gender</th>\n",
       "      <th>Age</th>\n",
       "      <th>Tenure</th>\n",
       "      <th>Balance</th>\n",
       "      <th>NumOfProducts</th>\n",
       "      <th>HasCrCard</th>\n",
       "      <th>IsActiveMember</th>\n",
       "      <th>EstimatedSalary</th>\n",
       "      <th>Exited</th>\n",
       "    </tr>\n",
       "  </thead>\n",
       "  <tbody>\n",
       "    <tr>\n",
       "      <th>0</th>\n",
       "      <td>1</td>\n",
       "      <td>15634602</td>\n",
       "      <td>Hargrave</td>\n",
       "      <td>619</td>\n",
       "      <td>France</td>\n",
       "      <td>Female</td>\n",
       "      <td>42</td>\n",
       "      <td>2</td>\n",
       "      <td>0.00</td>\n",
       "      <td>1</td>\n",
       "      <td>1</td>\n",
       "      <td>1</td>\n",
       "      <td>101348.88</td>\n",
       "      <td>1</td>\n",
       "    </tr>\n",
       "    <tr>\n",
       "      <th>1</th>\n",
       "      <td>2</td>\n",
       "      <td>15647311</td>\n",
       "      <td>Hill</td>\n",
       "      <td>608</td>\n",
       "      <td>Spain</td>\n",
       "      <td>Female</td>\n",
       "      <td>41</td>\n",
       "      <td>1</td>\n",
       "      <td>83807.86</td>\n",
       "      <td>1</td>\n",
       "      <td>0</td>\n",
       "      <td>1</td>\n",
       "      <td>112542.58</td>\n",
       "      <td>0</td>\n",
       "    </tr>\n",
       "    <tr>\n",
       "      <th>2</th>\n",
       "      <td>3</td>\n",
       "      <td>15619304</td>\n",
       "      <td>Onio</td>\n",
       "      <td>502</td>\n",
       "      <td>France</td>\n",
       "      <td>Female</td>\n",
       "      <td>42</td>\n",
       "      <td>8</td>\n",
       "      <td>159660.80</td>\n",
       "      <td>3</td>\n",
       "      <td>1</td>\n",
       "      <td>0</td>\n",
       "      <td>113931.57</td>\n",
       "      <td>1</td>\n",
       "    </tr>\n",
       "    <tr>\n",
       "      <th>3</th>\n",
       "      <td>4</td>\n",
       "      <td>15701354</td>\n",
       "      <td>Boni</td>\n",
       "      <td>699</td>\n",
       "      <td>France</td>\n",
       "      <td>Female</td>\n",
       "      <td>39</td>\n",
       "      <td>1</td>\n",
       "      <td>0.00</td>\n",
       "      <td>2</td>\n",
       "      <td>0</td>\n",
       "      <td>0</td>\n",
       "      <td>93826.63</td>\n",
       "      <td>0</td>\n",
       "    </tr>\n",
       "    <tr>\n",
       "      <th>4</th>\n",
       "      <td>5</td>\n",
       "      <td>15737888</td>\n",
       "      <td>Mitchell</td>\n",
       "      <td>850</td>\n",
       "      <td>Spain</td>\n",
       "      <td>Female</td>\n",
       "      <td>43</td>\n",
       "      <td>2</td>\n",
       "      <td>125510.82</td>\n",
       "      <td>1</td>\n",
       "      <td>1</td>\n",
       "      <td>1</td>\n",
       "      <td>79084.10</td>\n",
       "      <td>0</td>\n",
       "    </tr>\n",
       "    <tr>\n",
       "      <th>...</th>\n",
       "      <td>...</td>\n",
       "      <td>...</td>\n",
       "      <td>...</td>\n",
       "      <td>...</td>\n",
       "      <td>...</td>\n",
       "      <td>...</td>\n",
       "      <td>...</td>\n",
       "      <td>...</td>\n",
       "      <td>...</td>\n",
       "      <td>...</td>\n",
       "      <td>...</td>\n",
       "      <td>...</td>\n",
       "      <td>...</td>\n",
       "      <td>...</td>\n",
       "    </tr>\n",
       "    <tr>\n",
       "      <th>9995</th>\n",
       "      <td>9996</td>\n",
       "      <td>15606229</td>\n",
       "      <td>Obijiaku</td>\n",
       "      <td>771</td>\n",
       "      <td>France</td>\n",
       "      <td>Male</td>\n",
       "      <td>39</td>\n",
       "      <td>5</td>\n",
       "      <td>0.00</td>\n",
       "      <td>2</td>\n",
       "      <td>1</td>\n",
       "      <td>0</td>\n",
       "      <td>96270.64</td>\n",
       "      <td>0</td>\n",
       "    </tr>\n",
       "    <tr>\n",
       "      <th>9996</th>\n",
       "      <td>9997</td>\n",
       "      <td>15569892</td>\n",
       "      <td>Johnstone</td>\n",
       "      <td>516</td>\n",
       "      <td>France</td>\n",
       "      <td>Male</td>\n",
       "      <td>35</td>\n",
       "      <td>10</td>\n",
       "      <td>57369.61</td>\n",
       "      <td>1</td>\n",
       "      <td>1</td>\n",
       "      <td>1</td>\n",
       "      <td>101699.77</td>\n",
       "      <td>0</td>\n",
       "    </tr>\n",
       "    <tr>\n",
       "      <th>9997</th>\n",
       "      <td>9998</td>\n",
       "      <td>15584532</td>\n",
       "      <td>Liu</td>\n",
       "      <td>709</td>\n",
       "      <td>France</td>\n",
       "      <td>Female</td>\n",
       "      <td>36</td>\n",
       "      <td>7</td>\n",
       "      <td>0.00</td>\n",
       "      <td>1</td>\n",
       "      <td>0</td>\n",
       "      <td>1</td>\n",
       "      <td>42085.58</td>\n",
       "      <td>1</td>\n",
       "    </tr>\n",
       "    <tr>\n",
       "      <th>9998</th>\n",
       "      <td>9999</td>\n",
       "      <td>15682355</td>\n",
       "      <td>Sabbatini</td>\n",
       "      <td>772</td>\n",
       "      <td>Germany</td>\n",
       "      <td>Male</td>\n",
       "      <td>42</td>\n",
       "      <td>3</td>\n",
       "      <td>75075.31</td>\n",
       "      <td>2</td>\n",
       "      <td>1</td>\n",
       "      <td>0</td>\n",
       "      <td>92888.52</td>\n",
       "      <td>1</td>\n",
       "    </tr>\n",
       "    <tr>\n",
       "      <th>9999</th>\n",
       "      <td>10000</td>\n",
       "      <td>15628319</td>\n",
       "      <td>Walker</td>\n",
       "      <td>792</td>\n",
       "      <td>France</td>\n",
       "      <td>Female</td>\n",
       "      <td>28</td>\n",
       "      <td>4</td>\n",
       "      <td>130142.79</td>\n",
       "      <td>1</td>\n",
       "      <td>1</td>\n",
       "      <td>0</td>\n",
       "      <td>38190.78</td>\n",
       "      <td>0</td>\n",
       "    </tr>\n",
       "  </tbody>\n",
       "</table>\n",
       "<p>10000 rows × 14 columns</p>\n",
       "</div>"
      ],
      "text/plain": [
       "      RowNumber  CustomerId    Surname  CreditScore Geography  Gender  Age  \\\n",
       "0             1    15634602   Hargrave          619    France  Female   42   \n",
       "1             2    15647311       Hill          608     Spain  Female   41   \n",
       "2             3    15619304       Onio          502    France  Female   42   \n",
       "3             4    15701354       Boni          699    France  Female   39   \n",
       "4             5    15737888   Mitchell          850     Spain  Female   43   \n",
       "...         ...         ...        ...          ...       ...     ...  ...   \n",
       "9995       9996    15606229   Obijiaku          771    France    Male   39   \n",
       "9996       9997    15569892  Johnstone          516    France    Male   35   \n",
       "9997       9998    15584532        Liu          709    France  Female   36   \n",
       "9998       9999    15682355  Sabbatini          772   Germany    Male   42   \n",
       "9999      10000    15628319     Walker          792    France  Female   28   \n",
       "\n",
       "      Tenure    Balance  NumOfProducts  HasCrCard  IsActiveMember  \\\n",
       "0          2       0.00              1          1               1   \n",
       "1          1   83807.86              1          0               1   \n",
       "2          8  159660.80              3          1               0   \n",
       "3          1       0.00              2          0               0   \n",
       "4          2  125510.82              1          1               1   \n",
       "...      ...        ...            ...        ...             ...   \n",
       "9995       5       0.00              2          1               0   \n",
       "9996      10   57369.61              1          1               1   \n",
       "9997       7       0.00              1          0               1   \n",
       "9998       3   75075.31              2          1               0   \n",
       "9999       4  130142.79              1          1               0   \n",
       "\n",
       "      EstimatedSalary  Exited  \n",
       "0           101348.88       1  \n",
       "1           112542.58       0  \n",
       "2           113931.57       1  \n",
       "3            93826.63       0  \n",
       "4            79084.10       0  \n",
       "...               ...     ...  \n",
       "9995         96270.64       0  \n",
       "9996        101699.77       0  \n",
       "9997         42085.58       1  \n",
       "9998         92888.52       1  \n",
       "9999         38190.78       0  \n",
       "\n",
       "[10000 rows x 14 columns]"
      ]
     },
     "execution_count": 253,
     "metadata": {},
     "output_type": "execute_result"
    }
   ],
   "source": [
    "#IMPORTACIÓN DEL CONJUNTO DE DATOS - CLIENTES \n",
    "dataset = pd.read_csv('Clientes_banco.csv')\n",
    "dataset\n"
   ]
  },
  {
   "cell_type": "code",
   "execution_count": 254,
   "id": "33065f06",
   "metadata": {},
   "outputs": [],
   "source": [
    "X= dataset.iloc[:,3:13].values #VARIABLES INDEPENDIENTES(predictores)\n",
    "y= dataset.iloc[:,13].values #VARIABLE DEPENDIENTE(objetivo o resultado)\n",
    "\n"
   ]
  },
  {
   "cell_type": "code",
   "execution_count": 255,
   "id": "cf817620",
   "metadata": {},
   "outputs": [
    {
     "data": {
      "text/plain": [
       "array([[619, 'France', 'Female', ..., 1, 1, 101348.88],\n",
       "       [608, 'Spain', 'Female', ..., 0, 1, 112542.58],\n",
       "       [502, 'France', 'Female', ..., 1, 0, 113931.57],\n",
       "       ...,\n",
       "       [709, 'France', 'Female', ..., 0, 1, 42085.58],\n",
       "       [772, 'Germany', 'Male', ..., 1, 0, 92888.52],\n",
       "       [792, 'France', 'Female', ..., 1, 0, 38190.78]], dtype=object)"
      ]
     },
     "execution_count": 255,
     "metadata": {},
     "output_type": "execute_result"
    }
   ],
   "source": [
    "X"
   ]
  },
  {
   "cell_type": "code",
   "execution_count": 256,
   "id": "d5f11bdd",
   "metadata": {},
   "outputs": [
    {
     "data": {
      "text/plain": [
       "array([1, 0, 1, ..., 1, 1, 0], dtype=int64)"
      ]
     },
     "execution_count": 256,
     "metadata": {},
     "output_type": "execute_result"
    }
   ],
   "source": [
    "y"
   ]
  },
  {
   "cell_type": "code",
   "execution_count": 257,
   "id": "23687a60",
   "metadata": {},
   "outputs": [],
   "source": [
    "#CODIFICACIÓN DE DATOS CATEGORICOS \n",
    "from sklearn.preprocessing import LabelEncoder, OneHotEncoder\n",
    "labelencoder_X_1 = LabelEncoder()\n",
    "X[:,1] = labelencoder_X_1.fit_transform(X[:,1])"
   ]
  },
  {
   "cell_type": "code",
   "execution_count": 258,
   "id": "fc282a1a",
   "metadata": {},
   "outputs": [
    {
     "data": {
      "text/plain": [
       "array([[619, 0, 'Female', ..., 1, 1, 101348.88],\n",
       "       [608, 2, 'Female', ..., 0, 1, 112542.58],\n",
       "       [502, 0, 'Female', ..., 1, 0, 113931.57],\n",
       "       ...,\n",
       "       [709, 0, 'Female', ..., 0, 1, 42085.58],\n",
       "       [772, 1, 'Male', ..., 1, 0, 92888.52],\n",
       "       [792, 0, 'Female', ..., 1, 0, 38190.78]], dtype=object)"
      ]
     },
     "execution_count": 258,
     "metadata": {},
     "output_type": "execute_result"
    }
   ],
   "source": [
    "X"
   ]
  },
  {
   "cell_type": "code",
   "execution_count": 259,
   "id": "11a9679b",
   "metadata": {},
   "outputs": [],
   "source": [
    "labelencoder_X_2 = LabelEncoder()\n",
    "X[:,2] = labelencoder_X_2.fit_transform(X[:,2])"
   ]
  },
  {
   "cell_type": "code",
   "execution_count": 260,
   "id": "fe0f1b96",
   "metadata": {},
   "outputs": [
    {
     "data": {
      "text/plain": [
       "array([[619, 0, 0, ..., 1, 1, 101348.88],\n",
       "       [608, 2, 0, ..., 0, 1, 112542.58],\n",
       "       [502, 0, 0, ..., 1, 0, 113931.57],\n",
       "       ...,\n",
       "       [709, 0, 0, ..., 0, 1, 42085.58],\n",
       "       [772, 1, 1, ..., 1, 0, 92888.52],\n",
       "       [792, 0, 0, ..., 1, 0, 38190.78]], dtype=object)"
      ]
     },
     "execution_count": 260,
     "metadata": {},
     "output_type": "execute_result"
    }
   ],
   "source": [
    "X"
   ]
  },
  {
   "cell_type": "code",
   "execution_count": 261,
   "id": "38f00ba4",
   "metadata": {},
   "outputs": [],
   "source": [
    "#from sklearn.preprocessing import LabelEncoder, OneHotEncoder\n",
    "#from sklearn.compose import ColumnTransformer\n",
    "\n",
    "#labelencoder_X_1 = LabelEncoder()\n",
    "#X[:,1] = labelencoder_X_1.fit_transform(X[:,1])\n",
    "\n",
    "\n",
    "#labelencoder_X_2 = LabelEncoder()\n",
    "#X[:,2] = labelencoder_X_2.fit_transform(X[:,2])"
   ]
  },
  {
   "cell_type": "code",
   "execution_count": null,
   "id": "04fd48a2",
   "metadata": {},
   "outputs": [],
   "source": []
  },
  {
   "cell_type": "code",
   "execution_count": 262,
   "id": "20231122",
   "metadata": {},
   "outputs": [],
   "source": [
    "#labelencoder_X_2 = LabelEncoder()\n",
    "#X[:,2] = labelencoder_X_2.fit_transform(X[:,2])"
   ]
  },
  {
   "cell_type": "code",
   "execution_count": 263,
   "id": "7459f8a9",
   "metadata": {},
   "outputs": [],
   "source": [
    "onehotencoder = OneHotEncoder(categories =\"auto\")\n",
    "x = onehotencoder.fit_transform(X).toarray()\n",
    "x = x[:,1:]"
   ]
  },
  {
   "cell_type": "code",
   "execution_count": 264,
   "id": "1015e6fc",
   "metadata": {},
   "outputs": [
    {
     "data": {
      "text/plain": [
       "array([[619, 0, 0, ..., 1, 1, 101348.88],\n",
       "       [608, 2, 0, ..., 0, 1, 112542.58],\n",
       "       [502, 0, 0, ..., 1, 0, 113931.57],\n",
       "       ...,\n",
       "       [709, 0, 0, ..., 0, 1, 42085.58],\n",
       "       [772, 1, 1, ..., 1, 0, 92888.52],\n",
       "       [792, 0, 0, ..., 1, 0, 38190.78]], dtype=object)"
      ]
     },
     "execution_count": 264,
     "metadata": {},
     "output_type": "execute_result"
    }
   ],
   "source": [
    "X"
   ]
  },
  {
   "cell_type": "code",
   "execution_count": 265,
   "id": "2461a3fd",
   "metadata": {},
   "outputs": [],
   "source": [
    "from sklearn.preprocessing import LabelEncoder, OneHotEncoder\n",
    "from sklearn.compose import ColumnTransformer\n",
    "\n",
    "\n",
    "ct = ColumnTransformer([(\"Paises\",OneHotEncoder(), [1])], remainder = 'passthrough')\n",
    "#X = onehotencoder.fit_transform(x).toarray()\n",
    "#X = X[:,1:]\n",
    "X = ct.fit_transform(X)\n",
    "X = X[:,1:]"
   ]
  },
  {
   "cell_type": "code",
   "execution_count": 266,
   "id": "bf838312",
   "metadata": {},
   "outputs": [
    {
     "data": {
      "text/plain": [
       "array([[0.0, 0.0, 619, ..., 1, 1, 101348.88],\n",
       "       [0.0, 1.0, 608, ..., 0, 1, 112542.58],\n",
       "       [0.0, 0.0, 502, ..., 1, 0, 113931.57],\n",
       "       ...,\n",
       "       [0.0, 0.0, 709, ..., 0, 1, 42085.58],\n",
       "       [1.0, 0.0, 772, ..., 1, 0, 92888.52],\n",
       "       [0.0, 0.0, 792, ..., 1, 0, 38190.78]], dtype=object)"
      ]
     },
     "execution_count": 266,
     "metadata": {},
     "output_type": "execute_result"
    }
   ],
   "source": [
    "X"
   ]
  },
  {
   "cell_type": "code",
   "execution_count": 267,
   "id": "f42c9246",
   "metadata": {},
   "outputs": [
    {
     "data": {
      "text/html": [
       "<div>\n",
       "<style scoped>\n",
       "    .dataframe tbody tr th:only-of-type {\n",
       "        vertical-align: middle;\n",
       "    }\n",
       "\n",
       "    .dataframe tbody tr th {\n",
       "        vertical-align: top;\n",
       "    }\n",
       "\n",
       "    .dataframe thead th {\n",
       "        text-align: right;\n",
       "    }\n",
       "</style>\n",
       "<table border=\"1\" class=\"dataframe\">\n",
       "  <thead>\n",
       "    <tr style=\"text-align: right;\">\n",
       "      <th></th>\n",
       "      <th>RowNumber</th>\n",
       "      <th>CustomerId</th>\n",
       "      <th>Surname</th>\n",
       "      <th>CreditScore</th>\n",
       "      <th>Geography</th>\n",
       "      <th>Gender</th>\n",
       "      <th>Age</th>\n",
       "      <th>Tenure</th>\n",
       "      <th>Balance</th>\n",
       "      <th>NumOfProducts</th>\n",
       "      <th>HasCrCard</th>\n",
       "      <th>IsActiveMember</th>\n",
       "      <th>EstimatedSalary</th>\n",
       "      <th>Exited</th>\n",
       "    </tr>\n",
       "  </thead>\n",
       "  <tbody>\n",
       "    <tr>\n",
       "      <th>0</th>\n",
       "      <td>1</td>\n",
       "      <td>15634602</td>\n",
       "      <td>Hargrave</td>\n",
       "      <td>619</td>\n",
       "      <td>France</td>\n",
       "      <td>Female</td>\n",
       "      <td>42</td>\n",
       "      <td>2</td>\n",
       "      <td>0.00</td>\n",
       "      <td>1</td>\n",
       "      <td>1</td>\n",
       "      <td>1</td>\n",
       "      <td>101348.88</td>\n",
       "      <td>1</td>\n",
       "    </tr>\n",
       "    <tr>\n",
       "      <th>1</th>\n",
       "      <td>2</td>\n",
       "      <td>15647311</td>\n",
       "      <td>Hill</td>\n",
       "      <td>608</td>\n",
       "      <td>Spain</td>\n",
       "      <td>Female</td>\n",
       "      <td>41</td>\n",
       "      <td>1</td>\n",
       "      <td>83807.86</td>\n",
       "      <td>1</td>\n",
       "      <td>0</td>\n",
       "      <td>1</td>\n",
       "      <td>112542.58</td>\n",
       "      <td>0</td>\n",
       "    </tr>\n",
       "    <tr>\n",
       "      <th>2</th>\n",
       "      <td>3</td>\n",
       "      <td>15619304</td>\n",
       "      <td>Onio</td>\n",
       "      <td>502</td>\n",
       "      <td>France</td>\n",
       "      <td>Female</td>\n",
       "      <td>42</td>\n",
       "      <td>8</td>\n",
       "      <td>159660.80</td>\n",
       "      <td>3</td>\n",
       "      <td>1</td>\n",
       "      <td>0</td>\n",
       "      <td>113931.57</td>\n",
       "      <td>1</td>\n",
       "    </tr>\n",
       "    <tr>\n",
       "      <th>3</th>\n",
       "      <td>4</td>\n",
       "      <td>15701354</td>\n",
       "      <td>Boni</td>\n",
       "      <td>699</td>\n",
       "      <td>France</td>\n",
       "      <td>Female</td>\n",
       "      <td>39</td>\n",
       "      <td>1</td>\n",
       "      <td>0.00</td>\n",
       "      <td>2</td>\n",
       "      <td>0</td>\n",
       "      <td>0</td>\n",
       "      <td>93826.63</td>\n",
       "      <td>0</td>\n",
       "    </tr>\n",
       "    <tr>\n",
       "      <th>4</th>\n",
       "      <td>5</td>\n",
       "      <td>15737888</td>\n",
       "      <td>Mitchell</td>\n",
       "      <td>850</td>\n",
       "      <td>Spain</td>\n",
       "      <td>Female</td>\n",
       "      <td>43</td>\n",
       "      <td>2</td>\n",
       "      <td>125510.82</td>\n",
       "      <td>1</td>\n",
       "      <td>1</td>\n",
       "      <td>1</td>\n",
       "      <td>79084.10</td>\n",
       "      <td>0</td>\n",
       "    </tr>\n",
       "    <tr>\n",
       "      <th>...</th>\n",
       "      <td>...</td>\n",
       "      <td>...</td>\n",
       "      <td>...</td>\n",
       "      <td>...</td>\n",
       "      <td>...</td>\n",
       "      <td>...</td>\n",
       "      <td>...</td>\n",
       "      <td>...</td>\n",
       "      <td>...</td>\n",
       "      <td>...</td>\n",
       "      <td>...</td>\n",
       "      <td>...</td>\n",
       "      <td>...</td>\n",
       "      <td>...</td>\n",
       "    </tr>\n",
       "    <tr>\n",
       "      <th>9995</th>\n",
       "      <td>9996</td>\n",
       "      <td>15606229</td>\n",
       "      <td>Obijiaku</td>\n",
       "      <td>771</td>\n",
       "      <td>France</td>\n",
       "      <td>Male</td>\n",
       "      <td>39</td>\n",
       "      <td>5</td>\n",
       "      <td>0.00</td>\n",
       "      <td>2</td>\n",
       "      <td>1</td>\n",
       "      <td>0</td>\n",
       "      <td>96270.64</td>\n",
       "      <td>0</td>\n",
       "    </tr>\n",
       "    <tr>\n",
       "      <th>9996</th>\n",
       "      <td>9997</td>\n",
       "      <td>15569892</td>\n",
       "      <td>Johnstone</td>\n",
       "      <td>516</td>\n",
       "      <td>France</td>\n",
       "      <td>Male</td>\n",
       "      <td>35</td>\n",
       "      <td>10</td>\n",
       "      <td>57369.61</td>\n",
       "      <td>1</td>\n",
       "      <td>1</td>\n",
       "      <td>1</td>\n",
       "      <td>101699.77</td>\n",
       "      <td>0</td>\n",
       "    </tr>\n",
       "    <tr>\n",
       "      <th>9997</th>\n",
       "      <td>9998</td>\n",
       "      <td>15584532</td>\n",
       "      <td>Liu</td>\n",
       "      <td>709</td>\n",
       "      <td>France</td>\n",
       "      <td>Female</td>\n",
       "      <td>36</td>\n",
       "      <td>7</td>\n",
       "      <td>0.00</td>\n",
       "      <td>1</td>\n",
       "      <td>0</td>\n",
       "      <td>1</td>\n",
       "      <td>42085.58</td>\n",
       "      <td>1</td>\n",
       "    </tr>\n",
       "    <tr>\n",
       "      <th>9998</th>\n",
       "      <td>9999</td>\n",
       "      <td>15682355</td>\n",
       "      <td>Sabbatini</td>\n",
       "      <td>772</td>\n",
       "      <td>Germany</td>\n",
       "      <td>Male</td>\n",
       "      <td>42</td>\n",
       "      <td>3</td>\n",
       "      <td>75075.31</td>\n",
       "      <td>2</td>\n",
       "      <td>1</td>\n",
       "      <td>0</td>\n",
       "      <td>92888.52</td>\n",
       "      <td>1</td>\n",
       "    </tr>\n",
       "    <tr>\n",
       "      <th>9999</th>\n",
       "      <td>10000</td>\n",
       "      <td>15628319</td>\n",
       "      <td>Walker</td>\n",
       "      <td>792</td>\n",
       "      <td>France</td>\n",
       "      <td>Female</td>\n",
       "      <td>28</td>\n",
       "      <td>4</td>\n",
       "      <td>130142.79</td>\n",
       "      <td>1</td>\n",
       "      <td>1</td>\n",
       "      <td>0</td>\n",
       "      <td>38190.78</td>\n",
       "      <td>0</td>\n",
       "    </tr>\n",
       "  </tbody>\n",
       "</table>\n",
       "<p>10000 rows × 14 columns</p>\n",
       "</div>"
      ],
      "text/plain": [
       "      RowNumber  CustomerId    Surname  CreditScore Geography  Gender  Age  \\\n",
       "0             1    15634602   Hargrave          619    France  Female   42   \n",
       "1             2    15647311       Hill          608     Spain  Female   41   \n",
       "2             3    15619304       Onio          502    France  Female   42   \n",
       "3             4    15701354       Boni          699    France  Female   39   \n",
       "4             5    15737888   Mitchell          850     Spain  Female   43   \n",
       "...         ...         ...        ...          ...       ...     ...  ...   \n",
       "9995       9996    15606229   Obijiaku          771    France    Male   39   \n",
       "9996       9997    15569892  Johnstone          516    France    Male   35   \n",
       "9997       9998    15584532        Liu          709    France  Female   36   \n",
       "9998       9999    15682355  Sabbatini          772   Germany    Male   42   \n",
       "9999      10000    15628319     Walker          792    France  Female   28   \n",
       "\n",
       "      Tenure    Balance  NumOfProducts  HasCrCard  IsActiveMember  \\\n",
       "0          2       0.00              1          1               1   \n",
       "1          1   83807.86              1          0               1   \n",
       "2          8  159660.80              3          1               0   \n",
       "3          1       0.00              2          0               0   \n",
       "4          2  125510.82              1          1               1   \n",
       "...      ...        ...            ...        ...             ...   \n",
       "9995       5       0.00              2          1               0   \n",
       "9996      10   57369.61              1          1               1   \n",
       "9997       7       0.00              1          0               1   \n",
       "9998       3   75075.31              2          1               0   \n",
       "9999       4  130142.79              1          1               0   \n",
       "\n",
       "      EstimatedSalary  Exited  \n",
       "0           101348.88       1  \n",
       "1           112542.58       0  \n",
       "2           113931.57       1  \n",
       "3            93826.63       0  \n",
       "4            79084.10       0  \n",
       "...               ...     ...  \n",
       "9995         96270.64       0  \n",
       "9996        101699.77       0  \n",
       "9997         42085.58       1  \n",
       "9998         92888.52       1  \n",
       "9999         38190.78       0  \n",
       "\n",
       "[10000 rows x 14 columns]"
      ]
     },
     "execution_count": 267,
     "metadata": {},
     "output_type": "execute_result"
    }
   ],
   "source": [
    "dataset"
   ]
  },
  {
   "cell_type": "code",
   "execution_count": 268,
   "id": "04f6dc24",
   "metadata": {},
   "outputs": [],
   "source": [
    "#DIVIDIMOS LOS DATOS EN DATOS DE ENTRENAMIENTO Y DATOS DE PRUEBA\n",
    "\n",
    "from sklearn.model_selection import train_test_split\n",
    "\n",
    "X_train, X_test, y_train, y_test = train_test_split(X, y,\n",
    "                                                    test_size = 0.70, \n",
    "                                                    random_state = 0)"
   ]
  },
  {
   "cell_type": "code",
   "execution_count": 269,
   "id": "af8bc77d",
   "metadata": {},
   "outputs": [
    {
     "data": {
      "text/plain": [
       "array([[1.0, 0.0, 628, ..., 1, 1, 149922.38],\n",
       "       [1.0, 0.0, 554, ..., 0, 0, 24983.39],\n",
       "       [0.0, 0.0, 649, ..., 1, 1, 60335.24],\n",
       "       ...,\n",
       "       [0.0, 0.0, 738, ..., 1, 0, 181429.87],\n",
       "       [0.0, 1.0, 590, ..., 1, 1, 148750.16],\n",
       "       [1.0, 0.0, 623, ..., 1, 0, 118855.26]], dtype=object)"
      ]
     },
     "execution_count": 269,
     "metadata": {},
     "output_type": "execute_result"
    }
   ],
   "source": [
    "X_train"
   ]
  },
  {
   "cell_type": "code",
   "execution_count": 270,
   "id": "e20668cb",
   "metadata": {},
   "outputs": [
    {
     "data": {
      "text/plain": [
       "array([[1.0, 0.0, 597, ..., 1, 1, 192852.67],\n",
       "       [0.0, 0.0, 523, ..., 1, 0, 128702.1],\n",
       "       [0.0, 1.0, 706, ..., 1, 1, 75732.25],\n",
       "       ...,\n",
       "       [0.0, 0.0, 629, ..., 1, 1, 23971.33],\n",
       "       [0.0, 0.0, 664, ..., 0, 1, 79222.02],\n",
       "       [0.0, 0.0, 813, ..., 1, 0, 33953.87]], dtype=object)"
      ]
     },
     "execution_count": 270,
     "metadata": {},
     "output_type": "execute_result"
    }
   ],
   "source": [
    "X_test"
   ]
  },
  {
   "cell_type": "code",
   "execution_count": 271,
   "id": "ac4d294e",
   "metadata": {},
   "outputs": [],
   "source": [
    "#AJUSTAR ESCALAS \n",
    "from sklearn.preprocessing import StandardScaler\n",
    "sc = StandardScaler()\n",
    "X_train = sc.fit_transform(X_train)\n",
    "X_test = sc.transform(X_test)"
   ]
  },
  {
   "cell_type": "code",
   "execution_count": 272,
   "id": "a4863330",
   "metadata": {},
   "outputs": [
    {
     "data": {
      "text/plain": [
       "array([[ 1.73978322, -0.57119169, -0.26210192, ...,  0.64998085,\n",
       "         0.95692675,  0.86391904],\n",
       "       [ 1.73978322, -0.57119169, -1.02784642, ..., -1.53850686,\n",
       "        -1.04501206, -1.28897613],\n",
       "       [-0.57478426, -0.57119169, -0.04479605, ...,  0.64998085,\n",
       "         0.95692675, -0.67980819],\n",
       "       ...,\n",
       "       [-0.57478426, -0.57119169,  0.87616693, ...,  0.64998085,\n",
       "        -1.04501206,  1.40684261],\n",
       "       [-0.57478426,  1.75072575, -0.65532207, ...,  0.64998085,\n",
       "         0.95692675,  0.84371985],\n",
       "       [ 1.73978322, -0.57119169, -0.31384142, ...,  0.64998085,\n",
       "        -1.04501206,  0.32858373]])"
      ]
     },
     "execution_count": 272,
     "metadata": {},
     "output_type": "execute_result"
    }
   ],
   "source": [
    "X_train"
   ]
  },
  {
   "cell_type": "code",
   "execution_count": 273,
   "id": "14b24479",
   "metadata": {},
   "outputs": [
    {
     "data": {
      "text/plain": [
       "array([[ 1.73978322, -0.57119169, -0.58288678, ...,  0.64998085,\n",
       "         0.95692675,  1.60367541],\n",
       "       [-0.57478426, -0.57119169, -1.34863128, ...,  0.64998085,\n",
       "        -1.04501206,  0.49826026],\n",
       "       [-0.57478426,  1.75072575,  0.54503417, ...,  0.64998085,\n",
       "         0.95692675, -0.41449351],\n",
       "       ...,\n",
       "       [-0.57478426, -0.57119169, -0.25175403, ...,  0.64998085,\n",
       "         0.95692675, -1.30641551],\n",
       "       [-0.57478426, -0.57119169,  0.11042243, ..., -1.53850686,\n",
       "         0.95692675, -0.35435928],\n",
       "       [-0.57478426, -0.57119169,  1.65225932, ...,  0.64998085,\n",
       "        -1.04501206, -1.13440066]])"
      ]
     },
     "execution_count": 273,
     "metadata": {},
     "output_type": "execute_result"
    }
   ],
   "source": [
    "X_test"
   ]
  },
  {
   "cell_type": "code",
   "execution_count": 274,
   "id": "dbb745d2",
   "metadata": {},
   "outputs": [],
   "source": [
    "#Importacion de librerias\n",
    "import keras\n",
    "from keras.layers import Dense\n",
    "from keras.models import Sequential\n",
    "from keras.models import model_from_json\n",
    "from keras.models import load_model\n",
    "\n",
    "\n"
   ]
  },
  {
   "cell_type": "code",
   "execution_count": 275,
   "id": "c17f605d",
   "metadata": {},
   "outputs": [],
   "source": [
    "#INICIALIZAMOS LA RED NEURONAL\n",
    "red = Sequential()"
   ]
  },
  {
   "cell_type": "code",
   "execution_count": 276,
   "id": "4b87ac7a",
   "metadata": {},
   "outputs": [],
   "source": [
    "#AQUI CREAMOS LA CAPA DE ENTRADA\n",
    "\n",
    "red.add(Dense(100, activation='relu', kernel_initializer='glorot_uniform',input_dim=11))\n",
    "\n",
    "\n",
    "#red.add(Dense(output_dim = 6,\n",
    "              #input_dim = 11,\n",
    "              #init = 'uniform',\n",
    "              #activation = 'relu'))"
   ]
  },
  {
   "cell_type": "code",
   "execution_count": 277,
   "id": "76a962f9",
   "metadata": {},
   "outputs": [],
   "source": [
    "#PRIMER CAPA OCULTA\n",
    "\n",
    "red.add(Dense(100, activation='relu', kernel_initializer='glorot_uniform'))\n",
    "\n",
    "#red.add(Dense(output_dim = 6, init = \"uniform\",activation = \"relu\"))"
   ]
  },
  {
   "cell_type": "code",
   "execution_count": 278,
   "id": "5e0f2883",
   "metadata": {},
   "outputs": [],
   "source": [
    "# SEGUNDA CAPA OCULTA\n",
    "red.add(Dense(100, activation='relu', kernel_initializer='glorot_uniform'))\n",
    "\n",
    "#red.add(Dense(output_dim = 6, init = 'uniform',activation = 'relu'))"
   ]
  },
  {
   "cell_type": "code",
   "execution_count": 279,
   "id": "71ab3d39",
   "metadata": {},
   "outputs": [],
   "source": [
    "#CAPA DE SALIDA\n",
    "red.add(Dense(1, activation='sigmoid', kernel_initializer='glorot_uniform'))\n",
    "\n",
    "#red.add(Dense(output_dim = 6, init = 'uniform',activation = 'relu'))"
   ]
  },
  {
   "cell_type": "code",
   "execution_count": 280,
   "id": "c702f337",
   "metadata": {},
   "outputs": [],
   "source": [
    "\n",
    "red.compile(optimizer='adam', loss = 'binary_crossentropy',metrics=['accuracy'])\n",
    "\n"
   ]
  },
  {
   "cell_type": "code",
   "execution_count": 281,
   "id": "ae3e497a",
   "metadata": {},
   "outputs": [
    {
     "name": "stdout",
     "output_type": "stream",
     "text": [
      "Model: \"sequential_2\"\n",
      "_________________________________________________________________\n",
      " Layer (type)                Output Shape              Param #   \n",
      "=================================================================\n",
      " dense_8 (Dense)             (None, 100)               1200      \n",
      "                                                                 \n",
      " dense_9 (Dense)             (None, 100)               10100     \n",
      "                                                                 \n",
      " dense_10 (Dense)            (None, 100)               10100     \n",
      "                                                                 \n",
      " dense_11 (Dense)            (None, 1)                 101       \n",
      "                                                                 \n",
      "=================================================================\n",
      "Total params: 21,501\n",
      "Trainable params: 21,501\n",
      "Non-trainable params: 0\n",
      "_________________________________________________________________\n"
     ]
    }
   ],
   "source": [
    "red.summary()"
   ]
  },
  {
   "cell_type": "code",
   "execution_count": null,
   "id": "f570d1aa-80b4-44a0-b28e-8db367e61a53",
   "metadata": {},
   "outputs": [],
   "source": []
  },
  {
   "cell_type": "code",
   "execution_count": 282,
   "id": "f4f2561a",
   "metadata": {},
   "outputs": [
    {
     "name": "stdout",
     "output_type": "stream",
     "text": [
      "Epoch 1/150\n",
      "60/60 [==============================] - 1s 2ms/step - loss: 0.4923 - accuracy: 0.7970\n",
      "Epoch 2/150\n",
      "60/60 [==============================] - 0s 2ms/step - loss: 0.4211 - accuracy: 0.8153\n",
      "Epoch 3/150\n",
      "60/60 [==============================] - 0s 2ms/step - loss: 0.3833 - accuracy: 0.8400\n",
      "Epoch 4/150\n",
      "60/60 [==============================] - 0s 2ms/step - loss: 0.3567 - accuracy: 0.8600\n",
      "Epoch 5/150\n",
      "60/60 [==============================] - 0s 2ms/step - loss: 0.3434 - accuracy: 0.8640\n",
      "Epoch 6/150\n",
      "60/60 [==============================] - 0s 2ms/step - loss: 0.3382 - accuracy: 0.8663\n",
      "Epoch 7/150\n",
      "60/60 [==============================] - 0s 2ms/step - loss: 0.3332 - accuracy: 0.8653\n",
      "Epoch 8/150\n",
      "60/60 [==============================] - 0s 2ms/step - loss: 0.3212 - accuracy: 0.8713\n",
      "Epoch 9/150\n",
      "60/60 [==============================] - 0s 2ms/step - loss: 0.3118 - accuracy: 0.8750\n",
      "Epoch 10/150\n",
      "60/60 [==============================] - 0s 2ms/step - loss: 0.3089 - accuracy: 0.8750\n",
      "Epoch 11/150\n",
      "60/60 [==============================] - 0s 2ms/step - loss: 0.3007 - accuracy: 0.8810\n",
      "Epoch 12/150\n",
      "60/60 [==============================] - 0s 2ms/step - loss: 0.2947 - accuracy: 0.8813\n",
      "Epoch 13/150\n",
      "60/60 [==============================] - 0s 2ms/step - loss: 0.2866 - accuracy: 0.8817\n",
      "Epoch 14/150\n",
      "60/60 [==============================] - 0s 2ms/step - loss: 0.2800 - accuracy: 0.8893\n",
      "Epoch 15/150\n",
      "60/60 [==============================] - 0s 2ms/step - loss: 0.2692 - accuracy: 0.8897\n",
      "Epoch 16/150\n",
      "60/60 [==============================] - 0s 2ms/step - loss: 0.2627 - accuracy: 0.8947\n",
      "Epoch 17/150\n",
      "60/60 [==============================] - 0s 2ms/step - loss: 0.2628 - accuracy: 0.8963\n",
      "Epoch 18/150\n",
      "60/60 [==============================] - 0s 2ms/step - loss: 0.2531 - accuracy: 0.8997\n",
      "Epoch 19/150\n",
      "60/60 [==============================] - 0s 2ms/step - loss: 0.2449 - accuracy: 0.9010\n",
      "Epoch 20/150\n",
      "60/60 [==============================] - 0s 2ms/step - loss: 0.2371 - accuracy: 0.9083\n",
      "Epoch 21/150\n",
      "60/60 [==============================] - 0s 2ms/step - loss: 0.2305 - accuracy: 0.9060\n",
      "Epoch 22/150\n",
      "60/60 [==============================] - 0s 2ms/step - loss: 0.2225 - accuracy: 0.9110\n",
      "Epoch 23/150\n",
      "60/60 [==============================] - 0s 2ms/step - loss: 0.2101 - accuracy: 0.9180\n",
      "Epoch 24/150\n",
      "60/60 [==============================] - 0s 2ms/step - loss: 0.2018 - accuracy: 0.9193\n",
      "Epoch 25/150\n",
      "60/60 [==============================] - 0s 2ms/step - loss: 0.2008 - accuracy: 0.9217\n",
      "Epoch 26/150\n",
      "60/60 [==============================] - 0s 2ms/step - loss: 0.1895 - accuracy: 0.9263\n",
      "Epoch 27/150\n",
      "60/60 [==============================] - 0s 2ms/step - loss: 0.1885 - accuracy: 0.9240\n",
      "Epoch 28/150\n",
      "60/60 [==============================] - 0s 2ms/step - loss: 0.1659 - accuracy: 0.9377\n",
      "Epoch 29/150\n",
      "60/60 [==============================] - 0s 2ms/step - loss: 0.1680 - accuracy: 0.9323\n",
      "Epoch 30/150\n",
      "60/60 [==============================] - 0s 2ms/step - loss: 0.1588 - accuracy: 0.9383\n",
      "Epoch 31/150\n",
      "60/60 [==============================] - 0s 2ms/step - loss: 0.1556 - accuracy: 0.9400\n",
      "Epoch 32/150\n",
      "60/60 [==============================] - 0s 2ms/step - loss: 0.1487 - accuracy: 0.9420\n",
      "Epoch 33/150\n",
      "60/60 [==============================] - 0s 2ms/step - loss: 0.1363 - accuracy: 0.9507\n",
      "Epoch 34/150\n",
      "60/60 [==============================] - 0s 2ms/step - loss: 0.1338 - accuracy: 0.9520\n",
      "Epoch 35/150\n",
      "60/60 [==============================] - 0s 2ms/step - loss: 0.1313 - accuracy: 0.9517\n",
      "Epoch 36/150\n",
      "60/60 [==============================] - 0s 2ms/step - loss: 0.1180 - accuracy: 0.9550\n",
      "Epoch 37/150\n",
      "60/60 [==============================] - 0s 2ms/step - loss: 0.1091 - accuracy: 0.9613\n",
      "Epoch 38/150\n",
      "60/60 [==============================] - 0s 2ms/step - loss: 0.1040 - accuracy: 0.9613\n",
      "Epoch 39/150\n",
      "60/60 [==============================] - 0s 2ms/step - loss: 0.0973 - accuracy: 0.9643\n",
      "Epoch 40/150\n",
      "60/60 [==============================] - 0s 2ms/step - loss: 0.0956 - accuracy: 0.9667\n",
      "Epoch 41/150\n",
      "60/60 [==============================] - 0s 2ms/step - loss: 0.0889 - accuracy: 0.9703\n",
      "Epoch 42/150\n",
      "60/60 [==============================] - 0s 2ms/step - loss: 0.0912 - accuracy: 0.9680\n",
      "Epoch 43/150\n",
      "60/60 [==============================] - 0s 2ms/step - loss: 0.0830 - accuracy: 0.9693\n",
      "Epoch 44/150\n",
      "60/60 [==============================] - 0s 2ms/step - loss: 0.0851 - accuracy: 0.9700\n",
      "Epoch 45/150\n",
      "60/60 [==============================] - 0s 2ms/step - loss: 0.0761 - accuracy: 0.9717\n",
      "Epoch 46/150\n",
      "60/60 [==============================] - 0s 2ms/step - loss: 0.0664 - accuracy: 0.9767\n",
      "Epoch 47/150\n",
      "60/60 [==============================] - 0s 2ms/step - loss: 0.0699 - accuracy: 0.9760\n",
      "Epoch 48/150\n",
      "60/60 [==============================] - 0s 2ms/step - loss: 0.0711 - accuracy: 0.9730\n",
      "Epoch 49/150\n",
      "60/60 [==============================] - 0s 2ms/step - loss: 0.0628 - accuracy: 0.9787\n",
      "Epoch 50/150\n",
      "60/60 [==============================] - 0s 2ms/step - loss: 0.0541 - accuracy: 0.9823\n",
      "Epoch 51/150\n",
      "60/60 [==============================] - 0s 2ms/step - loss: 0.0573 - accuracy: 0.9807\n",
      "Epoch 52/150\n",
      "60/60 [==============================] - 0s 2ms/step - loss: 0.0513 - accuracy: 0.9840\n",
      "Epoch 53/150\n",
      "60/60 [==============================] - 0s 3ms/step - loss: 0.0473 - accuracy: 0.9850\n",
      "Epoch 54/150\n",
      "60/60 [==============================] - 0s 3ms/step - loss: 0.0439 - accuracy: 0.9880\n",
      "Epoch 55/150\n",
      "60/60 [==============================] - 0s 2ms/step - loss: 0.0389 - accuracy: 0.9890\n",
      "Epoch 56/150\n",
      "60/60 [==============================] - 0s 2ms/step - loss: 0.0345 - accuracy: 0.9907\n",
      "Epoch 57/150\n",
      "60/60 [==============================] - 0s 2ms/step - loss: 0.0392 - accuracy: 0.9907\n",
      "Epoch 58/150\n",
      "60/60 [==============================] - 0s 2ms/step - loss: 0.0483 - accuracy: 0.9870\n",
      "Epoch 59/150\n",
      "60/60 [==============================] - 0s 2ms/step - loss: 0.0480 - accuracy: 0.9823\n",
      "Epoch 60/150\n",
      "60/60 [==============================] - 0s 2ms/step - loss: 0.0468 - accuracy: 0.9840\n",
      "Epoch 61/150\n",
      "60/60 [==============================] - 0s 2ms/step - loss: 0.0476 - accuracy: 0.9853\n",
      "Epoch 62/150\n",
      "60/60 [==============================] - 0s 2ms/step - loss: 0.0389 - accuracy: 0.9877\n",
      "Epoch 63/150\n",
      "60/60 [==============================] - 0s 2ms/step - loss: 0.0428 - accuracy: 0.9890\n",
      "Epoch 64/150\n",
      "60/60 [==============================] - 0s 2ms/step - loss: 0.0401 - accuracy: 0.9890\n",
      "Epoch 65/150\n",
      "60/60 [==============================] - 0s 2ms/step - loss: 0.0477 - accuracy: 0.9837\n",
      "Epoch 66/150\n",
      "60/60 [==============================] - 0s 2ms/step - loss: 0.0457 - accuracy: 0.9837\n",
      "Epoch 67/150\n",
      "60/60 [==============================] - 0s 2ms/step - loss: 0.0297 - accuracy: 0.9923\n",
      "Epoch 68/150\n",
      "60/60 [==============================] - 0s 2ms/step - loss: 0.0205 - accuracy: 0.9953\n",
      "Epoch 69/150\n",
      "60/60 [==============================] - 0s 2ms/step - loss: 0.0155 - accuracy: 0.9977\n",
      "Epoch 70/150\n",
      "60/60 [==============================] - 0s 2ms/step - loss: 0.0172 - accuracy: 0.9963\n",
      "Epoch 71/150\n",
      "60/60 [==============================] - 0s 2ms/step - loss: 0.0209 - accuracy: 0.9957\n",
      "Epoch 72/150\n",
      "60/60 [==============================] - 0s 2ms/step - loss: 0.0170 - accuracy: 0.9977\n",
      "Epoch 73/150\n",
      "60/60 [==============================] - 0s 2ms/step - loss: 0.0137 - accuracy: 0.9987\n",
      "Epoch 74/150\n",
      "60/60 [==============================] - 0s 2ms/step - loss: 0.0217 - accuracy: 0.9953\n",
      "Epoch 75/150\n",
      "60/60 [==============================] - 0s 2ms/step - loss: 0.0239 - accuracy: 0.9933\n",
      "Epoch 76/150\n",
      "60/60 [==============================] - 0s 2ms/step - loss: 0.0258 - accuracy: 0.9933\n",
      "Epoch 77/150\n",
      "60/60 [==============================] - 0s 2ms/step - loss: 0.0224 - accuracy: 0.9943\n",
      "Epoch 78/150\n",
      "60/60 [==============================] - 0s 2ms/step - loss: 0.0183 - accuracy: 0.9960\n",
      "Epoch 79/150\n",
      "60/60 [==============================] - 0s 2ms/step - loss: 0.0200 - accuracy: 0.9950\n",
      "Epoch 80/150\n",
      "60/60 [==============================] - 0s 2ms/step - loss: 0.0263 - accuracy: 0.9930\n",
      "Epoch 81/150\n",
      "60/60 [==============================] - 0s 2ms/step - loss: 0.0331 - accuracy: 0.9893\n",
      "Epoch 82/150\n",
      "60/60 [==============================] - 0s 2ms/step - loss: 0.0280 - accuracy: 0.9940\n",
      "Epoch 83/150\n",
      "60/60 [==============================] - 0s 2ms/step - loss: 0.0307 - accuracy: 0.9917\n",
      "Epoch 84/150\n",
      "60/60 [==============================] - 0s 2ms/step - loss: 0.0444 - accuracy: 0.9837\n",
      "Epoch 85/150\n",
      "60/60 [==============================] - 0s 2ms/step - loss: 0.0639 - accuracy: 0.9783\n",
      "Epoch 86/150\n",
      "60/60 [==============================] - 0s 2ms/step - loss: 0.0419 - accuracy: 0.9827\n",
      "Epoch 87/150\n",
      "60/60 [==============================] - 0s 2ms/step - loss: 0.0249 - accuracy: 0.9950\n",
      "Epoch 88/150\n",
      "60/60 [==============================] - 0s 2ms/step - loss: 0.0250 - accuracy: 0.9940\n",
      "Epoch 89/150\n",
      "60/60 [==============================] - 0s 2ms/step - loss: 0.0190 - accuracy: 0.9953\n",
      "Epoch 90/150\n",
      "60/60 [==============================] - 0s 2ms/step - loss: 0.0109 - accuracy: 0.9983\n",
      "Epoch 91/150\n",
      "60/60 [==============================] - 0s 2ms/step - loss: 0.0093 - accuracy: 0.9977\n",
      "Epoch 92/150\n",
      "60/60 [==============================] - 0s 2ms/step - loss: 0.0119 - accuracy: 0.9973\n",
      "Epoch 93/150\n",
      "60/60 [==============================] - 0s 2ms/step - loss: 0.0105 - accuracy: 0.9983\n",
      "Epoch 94/150\n",
      "60/60 [==============================] - 0s 2ms/step - loss: 0.0081 - accuracy: 0.9980\n",
      "Epoch 95/150\n",
      "60/60 [==============================] - 0s 2ms/step - loss: 0.0141 - accuracy: 0.9960\n",
      "Epoch 96/150\n",
      "60/60 [==============================] - 0s 2ms/step - loss: 0.0090 - accuracy: 0.9977\n",
      "Epoch 97/150\n",
      "60/60 [==============================] - 0s 2ms/step - loss: 0.0081 - accuracy: 0.9983\n",
      "Epoch 98/150\n",
      "60/60 [==============================] - 0s 2ms/step - loss: 0.0067 - accuracy: 0.9990\n",
      "Epoch 99/150\n",
      "60/60 [==============================] - 0s 2ms/step - loss: 0.0095 - accuracy: 0.9980\n",
      "Epoch 100/150\n",
      "60/60 [==============================] - 0s 2ms/step - loss: 0.0144 - accuracy: 0.9950\n",
      "Epoch 101/150\n",
      "60/60 [==============================] - 0s 2ms/step - loss: 0.0258 - accuracy: 0.9930\n",
      "Epoch 102/150\n",
      "60/60 [==============================] - 0s 2ms/step - loss: 0.0237 - accuracy: 0.9947\n",
      "Epoch 103/150\n",
      "60/60 [==============================] - 0s 2ms/step - loss: 0.0304 - accuracy: 0.9900\n",
      "Epoch 104/150\n",
      "60/60 [==============================] - 0s 2ms/step - loss: 0.0365 - accuracy: 0.9867\n",
      "Epoch 105/150\n",
      "60/60 [==============================] - 0s 2ms/step - loss: 0.0971 - accuracy: 0.9717\n",
      "Epoch 106/150\n",
      "60/60 [==============================] - 0s 2ms/step - loss: 0.0456 - accuracy: 0.9863\n",
      "Epoch 107/150\n",
      "60/60 [==============================] - 0s 2ms/step - loss: 0.0382 - accuracy: 0.9867\n",
      "Epoch 108/150\n",
      "60/60 [==============================] - 0s 2ms/step - loss: 0.0215 - accuracy: 0.9943\n",
      "Epoch 109/150\n",
      "60/60 [==============================] - 0s 2ms/step - loss: 0.0155 - accuracy: 0.9960\n",
      "Epoch 110/150\n",
      "60/60 [==============================] - 0s 2ms/step - loss: 0.0076 - accuracy: 0.9987\n",
      "Epoch 111/150\n",
      "60/60 [==============================] - 0s 2ms/step - loss: 0.0057 - accuracy: 0.9993\n",
      "Epoch 112/150\n",
      "60/60 [==============================] - 0s 2ms/step - loss: 0.0045 - accuracy: 0.9993\n",
      "Epoch 113/150\n",
      "60/60 [==============================] - 0s 2ms/step - loss: 0.0049 - accuracy: 0.9997\n",
      "Epoch 114/150\n",
      "60/60 [==============================] - 0s 2ms/step - loss: 0.0039 - accuracy: 0.9997\n",
      "Epoch 115/150\n",
      "60/60 [==============================] - 0s 2ms/step - loss: 0.0080 - accuracy: 0.9990\n",
      "Epoch 116/150\n",
      "60/60 [==============================] - 0s 2ms/step - loss: 0.0055 - accuracy: 0.9987\n",
      "Epoch 117/150\n",
      "60/60 [==============================] - 0s 2ms/step - loss: 0.0072 - accuracy: 0.9987\n",
      "Epoch 118/150\n",
      "60/60 [==============================] - 0s 2ms/step - loss: 0.0053 - accuracy: 0.9987\n",
      "Epoch 119/150\n",
      "60/60 [==============================] - 0s 2ms/step - loss: 0.0043 - accuracy: 0.9993\n",
      "Epoch 120/150\n",
      "60/60 [==============================] - 0s 2ms/step - loss: 0.0069 - accuracy: 0.9993\n",
      "Epoch 121/150\n",
      "60/60 [==============================] - 0s 2ms/step - loss: 0.0096 - accuracy: 0.9970\n",
      "Epoch 122/150\n",
      "60/60 [==============================] - 0s 2ms/step - loss: 0.0138 - accuracy: 0.9957\n",
      "Epoch 123/150\n",
      "60/60 [==============================] - 0s 2ms/step - loss: 0.0158 - accuracy: 0.9943\n",
      "Epoch 124/150\n",
      "60/60 [==============================] - 0s 2ms/step - loss: 0.0135 - accuracy: 0.9957\n",
      "Epoch 125/150\n",
      "60/60 [==============================] - 0s 2ms/step - loss: 0.0101 - accuracy: 0.9967\n",
      "Epoch 126/150\n",
      "60/60 [==============================] - 0s 3ms/step - loss: 0.0524 - accuracy: 0.9823\n",
      "Epoch 127/150\n",
      "60/60 [==============================] - 0s 2ms/step - loss: 0.0755 - accuracy: 0.9743\n",
      "Epoch 128/150\n",
      "60/60 [==============================] - 0s 2ms/step - loss: 0.0809 - accuracy: 0.9683\n",
      "Epoch 129/150\n",
      "60/60 [==============================] - 0s 2ms/step - loss: 0.0576 - accuracy: 0.9813\n",
      "Epoch 130/150\n",
      "60/60 [==============================] - 0s 2ms/step - loss: 0.0166 - accuracy: 0.9953\n",
      "Epoch 131/150\n",
      "60/60 [==============================] - 0s 2ms/step - loss: 0.0106 - accuracy: 0.9977\n",
      "Epoch 132/150\n",
      "60/60 [==============================] - 0s 2ms/step - loss: 0.0160 - accuracy: 0.9960\n",
      "Epoch 133/150\n",
      "60/60 [==============================] - 0s 2ms/step - loss: 0.0084 - accuracy: 0.9987\n",
      "Epoch 134/150\n",
      "60/60 [==============================] - 0s 2ms/step - loss: 0.0041 - accuracy: 0.9990\n",
      "Epoch 135/150\n",
      "60/60 [==============================] - 0s 2ms/step - loss: 0.0049 - accuracy: 0.9990\n",
      "Epoch 136/150\n",
      "60/60 [==============================] - 0s 2ms/step - loss: 0.0090 - accuracy: 0.9983\n",
      "Epoch 137/150\n",
      "60/60 [==============================] - 0s 2ms/step - loss: 0.0036 - accuracy: 0.9993\n",
      "Epoch 138/150\n",
      "60/60 [==============================] - 0s 2ms/step - loss: 0.0052 - accuracy: 0.9990\n",
      "Epoch 139/150\n",
      "60/60 [==============================] - 0s 2ms/step - loss: 0.0037 - accuracy: 0.9997\n",
      "Epoch 140/150\n",
      "60/60 [==============================] - 0s 2ms/step - loss: 0.0049 - accuracy: 0.9983\n",
      "Epoch 141/150\n",
      "60/60 [==============================] - 0s 2ms/step - loss: 0.0076 - accuracy: 0.9980\n",
      "Epoch 142/150\n",
      "60/60 [==============================] - 0s 2ms/step - loss: 0.0073 - accuracy: 0.9987\n",
      "Epoch 143/150\n",
      "60/60 [==============================] - 0s 2ms/step - loss: 0.0071 - accuracy: 0.9987\n",
      "Epoch 144/150\n",
      "60/60 [==============================] - 0s 2ms/step - loss: 0.0093 - accuracy: 0.9987\n",
      "Epoch 145/150\n",
      "60/60 [==============================] - 0s 2ms/step - loss: 0.0076 - accuracy: 0.9980\n",
      "Epoch 146/150\n",
      "60/60 [==============================] - 0s 2ms/step - loss: 0.0099 - accuracy: 0.9977\n",
      "Epoch 147/150\n",
      "60/60 [==============================] - 0s 2ms/step - loss: 0.0228 - accuracy: 0.9930\n",
      "Epoch 148/150\n",
      "60/60 [==============================] - 0s 3ms/step - loss: 0.0524 - accuracy: 0.9823\n",
      "Epoch 149/150\n",
      "60/60 [==============================] - 0s 2ms/step - loss: 0.1316 - accuracy: 0.9570\n",
      "Epoch 150/150\n",
      "60/60 [==============================] - 0s 2ms/step - loss: 0.0447 - accuracy: 0.9853\n"
     ]
    },
    {
     "data": {
      "text/plain": [
       "<keras.callbacks.History at 0x23e5a65e580>"
      ]
     },
     "execution_count": 282,
     "metadata": {},
     "output_type": "execute_result"
    }
   ],
   "source": [
    "#ENTRENAMIENTO\n",
    "red.fit(X_train, y_train, batch_size=50, epochs=150)"
   ]
  },
  {
   "cell_type": "markdown",
   "id": "84b743db-ca1f-4f4b-a474-877cf45a6d12",
   "metadata": {},
   "source": [
    "EVALUACIÓN DEL MODELO"
   ]
  },
  {
   "cell_type": "code",
   "execution_count": 283,
   "id": "19f344cf-6155-4c7e-96c0-d5285a2e97e5",
   "metadata": {},
   "outputs": [
    {
     "name": "stdout",
     "output_type": "stream",
     "text": [
      "219/219 [==============================] - 0s 1ms/step - loss: 1.7677 - accuracy: 0.8194\n"
     ]
    },
    {
     "data": {
      "text/plain": [
       "[1.7676970958709717, 0.819428563117981]"
      ]
     },
     "execution_count": 283,
     "metadata": {},
     "output_type": "execute_result"
    }
   ],
   "source": [
    "red.evaluate(X_test, y_pred)"
   ]
  },
  {
   "cell_type": "code",
   "execution_count": 284,
   "id": "9658fea0-77dd-4943-a0a1-0beef41c5ff4",
   "metadata": {},
   "outputs": [
    {
     "name": "stdout",
     "output_type": "stream",
     "text": [
      "219/219 [==============================] - 0s 1ms/step\n"
     ]
    },
    {
     "data": {
      "text/plain": [
       "array([[4.2144319e-01],\n",
       "       [7.8388667e-03],\n",
       "       [9.5956813e-05],\n",
       "       ...,\n",
       "       [7.7354489e-04],\n",
       "       [2.9492075e-09],\n",
       "       [2.1608440e-10]], dtype=float32)"
      ]
     },
     "execution_count": 284,
     "metadata": {},
     "output_type": "execute_result"
    }
   ],
   "source": [
    "y_pred = red.predict(X_test)\n",
    "y_pred"
   ]
  },
  {
   "cell_type": "code",
   "execution_count": 285,
   "id": "815b748c-e139-46d5-894a-e3ae7baa0110",
   "metadata": {},
   "outputs": [
    {
     "data": {
      "text/plain": [
       "array([[False],\n",
       "       [False],\n",
       "       [False],\n",
       "       ...,\n",
       "       [False],\n",
       "       [False],\n",
       "       [False]])"
      ]
     },
     "execution_count": 285,
     "metadata": {},
     "output_type": "execute_result"
    }
   ],
   "source": [
    "y_pred = (y_pred>0.5)\n",
    "y_pred"
   ]
  },
  {
   "cell_type": "markdown",
   "id": "df692298-1d91-40f5-8dcc-176d6e8211cc",
   "metadata": {},
   "source": [
    "==========================\n",
    "=CLASIFICACIÓN DEL MODELO=\n",
    "=========================="
   ]
  },
  {
   "cell_type": "code",
   "execution_count": 289,
   "id": "7560eab0-e292-49be-a54e-cb9df2b0ef27",
   "metadata": {},
   "outputs": [
    {
     "name": "stdout",
     "output_type": "stream",
     "text": [
      "              precision    recall  f1-score   support\n",
      "\n",
      "       False       0.90      0.87      0.89      5736\n",
      "        True       0.49      0.55      0.52      1264\n",
      "\n",
      "    accuracy                           0.82      7000\n",
      "   macro avg       0.69      0.71      0.70      7000\n",
      "weighted avg       0.82      0.82      0.82      7000\n",
      "\n"
     ]
    }
   ],
   "source": [
    "from sklearn.metrics import classification_report\n",
    "print(classification_report(y_pred, y_test))"
   ]
  },
  {
   "cell_type": "markdown",
   "id": "8ea478b4-8444-4b1f-9fa9-bbec398754cb",
   "metadata": {},
   "source": [
    "====================\n",
    "MATRIZ DE CONFUSIÓN\n",
    "===================="
   ]
  },
  {
   "cell_type": "code",
   "execution_count": 290,
   "id": "0a79021f-3196-4357-a830-b4f717fa1f3c",
   "metadata": {},
   "outputs": [
    {
     "name": "stdout",
     "output_type": "stream",
     "text": [
      "Confusion matrix\n",
      "\n",
      " [[5013  571]\n",
      " [ 723  693]]\n",
      "=================================\n",
      "\n",
      "True Positives(TP) =  5013\n",
      "=================================\n",
      "\n",
      "True Negatives(TN) =  693\n",
      "=================================\n",
      "\n",
      "False Positives(FP) =  571\n",
      "=================================\n",
      "\n",
      "False Negatives(FN) =  723\n"
     ]
    },
    {
     "data": {
      "text/plain": [
       "<AxesSubplot:>"
      ]
     },
     "execution_count": 290,
     "metadata": {},
     "output_type": "execute_result"
    },
    {
     "data": {
      "image/png": "[encoded data removed]",
      "text/plain": [
       "<Figure size 432x288 with 2 Axes>"
      ]
     },
     "metadata": {
      "needs_background": "light"
     },
     "output_type": "display_data"
    }
   ],
   "source": [
    "import seaborn as sns\n",
    "from sklearn.metrics import confusion_matrix\n",
    "\n",
    "\n",
    "cm = confusion_matrix(y_test, y_pred)\n",
    "\n",
    "\n",
    "print('Confusion matrix\\n\\n', cm)\n",
    "print('=================================')\n",
    "print('\\nTrue Positives(TP) = ', cm[0,0])\n",
    "print('=================================')\n",
    "print('\\nTrue Negatives(TN) = ', cm[1,1])\n",
    "print('=================================')\n",
    "print('\\nFalse Positives(FP) = ', cm[0,1])\n",
    "print('=================================')\n",
    "print('\\nFalse Negatives(FN) = ', cm[1,0])\n",
    "\n",
    "\n",
    "cm_matrix = pd.DataFrame(data=cm, columns=['Cliente Abandona el Banco', 'Cliente No Abandona el Banco'], \n",
    "                                 index=['Cliente Abandona el Banco', 'Cliente No Abandona el Banco'])\n",
    "\n",
    "sns.heatmap(cm_matrix, annot=True, fmt='d', cmap='YlGnBu')                \n"
   ]
  },
  {
   "cell_type": "code",
   "execution_count": 291,
   "id": "c04f73f4-6444-41af-ac67-5e5cc885b138",
   "metadata": {},
   "outputs": [
    {
     "name": "stdout",
     "output_type": "stream",
     "text": [
      "              precision    recall  f1-score   support\n",
      "\n",
      "           0       0.87      0.90      0.89      5584\n",
      "           1       0.55      0.49      0.52      1416\n",
      "\n",
      "    accuracy                           0.82      7000\n",
      "   macro avg       0.71      0.69      0.70      7000\n",
      "weighted avg       0.81      0.82      0.81      7000\n",
      "\n"
     ]
    }
   ],
   "source": [
    "from sklearn.metrics import classification_report\n",
    "print(classification_report(y_test, y_pred))"
   ]
  },
  {
   "cell_type": "code",
   "execution_count": 295,
   "id": "387d0852-d8d5-42bc-87b0-ee384d1f9ae5",
   "metadata": {},
   "outputs": [
    {
     "name": "stdout",
     "output_type": "stream",
     "text": [
      "219/219 [==============================] - 0s 2ms/step - loss: 0.0359 - accuracy: 1.0000\n"
     ]
    },
    {
     "data": {
      "text/plain": [
       "[0.03589748963713646, 1.0]"
      ]
     },
     "execution_count": 295,
     "metadata": {},
     "output_type": "execute_result"
    }
   ],
   "source": [
    "red.evaluate(X_test, y_pred)\n"
   ]
  },
  {
   "cell_type": "code",
   "execution_count": null,
   "id": "7906fe6b",
   "metadata": {},
   "outputs": [],
   "source": []
  },
  {
   "cell_type": "code",
   "execution_count": null,
   "id": "142a8e48-5ade-4827-9a7d-db104147b454",
   "metadata": {},
   "outputs": [],
   "source": []
  },
  {
   "cell_type": "code",
   "execution_count": null,
   "id": "c7fbb4db",
   "metadata": {},
   "outputs": [],
   "source": [
    " "
   ]
  },
  {
   "cell_type": "code",
   "execution_count": null,
   "id": "6f6c4ae2-3627-402b-b0d2-3caa8f088394",
   "metadata": {},
   "outputs": [],
   "source": []
  },
  {
   "cell_type": "code",
   "execution_count": null,
   "id": "38ba608f-0b85-47a6-a1d7-52166be2b9f5",
   "metadata": {},
   "outputs": [],
   "source": []
  },
  {
   "cell_type": "code",
   "execution_count": null,
   "id": "f544d98a-d22f-47dc-893f-734402a8486a",
   "metadata": {},
   "outputs": [],
   "source": []
  },
  {
   "cell_type": "code",
   "execution_count": null,
   "id": "0b1069e7-0f23-46da-96b7-c74eed1a1572",
   "metadata": {},
   "outputs": [],
   "source": []
  },
  {
   "cell_type": "code",
   "execution_count": null,
   "id": "bb06c804-504c-44d1-be28-a160f883bf2d",
   "metadata": {},
   "outputs": [],
   "source": []
  },
  {
   "cell_type": "code",
   "execution_count": null,
   "id": "0c7cb1d3-1908-4009-b676-2471e07c49e7",
   "metadata": {},
   "outputs": [],
   "source": []
  }
 ],
 "metadata": {
  "kernelspec": {
   "display_name": "Python 3 (ipykernel)",
   "language": "python",
   "name": "python3"
  },
  "language_info": {
   "codemirror_mode": {
    "name": "ipython",
    "version": 3
   },
   "file_extension": ".py",
   "mimetype": "text/x-python",
   "name": "python",
   "nbconvert_exporter": "python",
   "pygments_lexer": "ipython3",
   "version": "3.9.7"
  }
 },
 "nbformat": 4,
 "nbformat_minor": 5
}
